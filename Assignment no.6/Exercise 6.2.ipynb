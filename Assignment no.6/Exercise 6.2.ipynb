{
 "cells": [
  {
   "cell_type": "code",
   "execution_count": 2,
   "id": "4b88a207-28c4-4412-a20a-5c21ab3e7c3f",
   "metadata": {},
   "outputs": [
    {
     "name": "stdout",
     "output_type": "stream",
     "text": [
      "R^2 value for unscaled data: 0.8327437044707436\n",
      "R^2 value for normalized data: 0.8327437044707436\n",
      "R^2 value for standardized data: 0.8327437044707436\n",
      "\n",
      "Comparison of R^2 values:\n",
      "Unscaled Data: 0.8327437044707436\n",
      "Normalized Data: 0.8327437044707436\n",
      "Standardized Data: 0.8327437044707436\n"
     ]
    }
   ],
   "source": [
    "import pandas as pd\n",
    "from sklearn.model_selection import train_test_split\n",
    "from sklearn.svm import SVC\n",
    "from sklearn.metrics import confusion_matrix, classification_report\n",
    "from sklearn.neighbors import KNeighborsRegressor\n",
    "from sklearn.metrics import r2_score\n",
    "from sklearn.preprocessing import MinMaxScaler, StandardScaler\n",
    "\n",
    "data = pd.read_csv('weight-height.csv')\n",
    "\n",
    "data['WeightKg'] = data['Weight'] * 0.453592\n",
    "data['HeightCm'] = data['Height'] * 2.54\n",
    "X = data[['HeightCm']]\n",
    "y = data['WeightKg']\n",
    "\n",
    "X_train, X_test, y_train, y_test = train_test_split(X, y, test_size=0.2, random_state=20)\n",
    "\n",
    "knn = KNeighborsRegressor(n_neighbors=5)\n",
    "knn.fit(X_train, y_train)\n",
    "y_pred_unscaled = knn.predict(X_test)\n",
    "r2_unscaled = r2_score(y_test, y_pred_unscaled)\n",
    "print(f\"R^2 value for unscaled data: {r2_unscaled}\")\n",
    "\n",
    "scaler_normal = MinMaxScaler()\n",
    "X_train_normalized = scaler_normal.fit_transform(X_train)\n",
    "X_test_normalized = scaler_normal.transform(X_test)\n",
    "\n",
    "knn.fit(X_train_normalized, y_train)\n",
    "y_pred_normalized = knn.predict(X_test_normalized)\n",
    "r2_normalized = r2_score(y_test, y_pred_normalized)\n",
    "print(f\"R^2 value for normalized data: {r2_normalized}\")\n",
    "\n",
    "scaler_standard = StandardScaler()\n",
    "X_train_standardized = scaler_standard.fit_transform(X_train)\n",
    "X_test_standardized = scaler_standard.transform(X_test)\n",
    "\n",
    "knn.fit(X_train_standardized, y_train)\n",
    "y_pred_standardized = knn.predict(X_test_standardized)\n",
    "r2_standardized = r2_score(y_test, y_pred_standardized)\n",
    "print(f\"R^2 value for standardized data: {r2_standardized}\")\n",
    "\n",
    "print(\"\\nComparison of R^2 values:\")\n",
    "print(f\"Unscaled Data: {r2_unscaled}\")\n",
    "print(f\"Normalized Data: {r2_normalized}\")\n",
    "print(f\"Standardized Data: {r2_standardized}\")\n"
   ]
  },
  {
   "cell_type": "code",
   "execution_count": null,
   "id": "af6b05b1-c7e4-450f-ae9d-dbbc0c23eec0",
   "metadata": {},
   "outputs": [],
   "source": []
  }
 ],
 "metadata": {
  "kernelspec": {
   "display_name": "Python 3 (ipykernel)",
   "language": "python",
   "name": "python3"
  },
  "language_info": {
   "codemirror_mode": {
    "name": "ipython",
    "version": 3
   },
   "file_extension": ".py",
   "mimetype": "text/x-python",
   "name": "python",
   "nbconvert_exporter": "python",
   "pygments_lexer": "ipython3",
   "version": "3.12.7"
  }
 },
 "nbformat": 4,
 "nbformat_minor": 5
}
