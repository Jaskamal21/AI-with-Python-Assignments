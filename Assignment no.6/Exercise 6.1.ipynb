{
 "cells": [
  {
   "cell_type": "code",
   "execution_count": 2,
   "id": "336cd50e-3af8-4eeb-9a53-88c3983ee57a",
   "metadata": {},
   "outputs": [
    {
     "name": "stdout",
     "output_type": "stream",
     "text": [
      "Confusion Matrix for Linear Kernel:\n",
      "[[152   2]\n",
      " [  0 121]]\n",
      "\n",
      "Classification Report for Linear Kernel:\n",
      "              precision    recall  f1-score   support\n",
      "\n",
      "           0       1.00      0.99      0.99       154\n",
      "           1       0.98      1.00      0.99       121\n",
      "\n",
      "    accuracy                           0.99       275\n",
      "   macro avg       0.99      0.99      0.99       275\n",
      "weighted avg       0.99      0.99      0.99       275\n",
      "\n",
      "Confusion Matrix for RBF Kernel:\n",
      "[[154   0]\n",
      " [  0 121]]\n",
      "\n",
      "Classification Report for RBF Kernel:\n",
      "              precision    recall  f1-score   support\n",
      "\n",
      "           0       1.00      1.00      1.00       154\n",
      "           1       1.00      1.00      1.00       121\n",
      "\n",
      "    accuracy                           1.00       275\n",
      "   macro avg       1.00      1.00      1.00       275\n",
      "weighted avg       1.00      1.00      1.00       275\n",
      "\n",
      "\n",
      "Comparison:\n",
      "The linear kernel SVM works well if the data is linearly separable or approximately so.\n",
      "The RBF kernel SVM is more flexible and can capture non-linear relationships.\n"
     ]
    }
   ],
   "source": [
    "import pandas as pd\n",
    "from sklearn.model_selection import train_test_split\n",
    "from sklearn.svm import SVC\n",
    "from sklearn.metrics import confusion_matrix, classification_report\n",
    "\n",
    "data = pd.read_csv('data_banknote_authentication.csv')\n",
    "\n",
    "X = data.drop(columns=['class'])\n",
    "y = data['class']\n",
    "\n",
    "X_train, X_test, y_train, y_test = train_test_split(X, y, test_size=0.2, random_state=20)\n",
    "\n",
    "svc_linear = SVC(kernel='linear', random_state=20)\n",
    "svc_linear.fit(X_train, y_train)\n",
    "\n",
    "y_pred_linear = svc_linear.predict(X_test)\n",
    "conf_matrix_linear = confusion_matrix(y_test, y_pred_linear)\n",
    "class_report_linear = classification_report(y_test, y_pred_linear)\n",
    "\n",
    "print(\"Confusion Matrix for Linear Kernel:\")\n",
    "print(conf_matrix_linear)\n",
    "print(\"\\nClassification Report for Linear Kernel:\")\n",
    "print(class_report_linear)\n",
    "\n",
    "svc_rbf = SVC(kernel='rbf', random_state=20)\n",
    "svc_rbf.fit(X_train, y_train)\n",
    "\n",
    "y_pred_rbf = svc_rbf.predict(X_test)\n",
    "conf_matrix_rbf = confusion_matrix(y_test, y_pred_rbf)\n",
    "class_report_rbf = classification_report(y_test, y_pred_rbf)\n",
    "\n",
    "print(\"Confusion Matrix for RBF Kernel:\")\n",
    "print(conf_matrix_rbf)\n",
    "print(\"\\nClassification Report for RBF Kernel:\")\n",
    "print(class_report_rbf)\n",
    "\n",
    "print(\"\\nComparison:\")\n",
    "print(\"The linear kernel SVM works well if the data is linearly separable or approximately so.\")\n",
    "print(\"The RBF kernel SVM is more flexible and can capture non-linear relationships.\")"
   ]
  },
  {
   "cell_type": "code",
   "execution_count": null,
   "id": "5230d811-a371-441d-a5d7-a68c463e3b81",
   "metadata": {},
   "outputs": [],
   "source": []
  }
 ],
 "metadata": {
  "kernelspec": {
   "display_name": "Python 3 (ipykernel)",
   "language": "python",
   "name": "python3"
  },
  "language_info": {
   "codemirror_mode": {
    "name": "ipython",
    "version": 3
   },
   "file_extension": ".py",
   "mimetype": "text/x-python",
   "name": "python",
   "nbconvert_exporter": "python",
   "pygments_lexer": "ipython3",
   "version": "3.12.7"
  }
 },
 "nbformat": 4,
 "nbformat_minor": 5
}
