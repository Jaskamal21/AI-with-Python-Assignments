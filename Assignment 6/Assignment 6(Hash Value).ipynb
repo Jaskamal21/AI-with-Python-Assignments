{
 "cells": [
  {
   "cell_type": "code",
   "execution_count": 20,
   "id": "e0607d8d-6b67-4e3b-b3a4-899568d8afe4",
   "metadata": {},
   "outputs": [
    {
     "name": "stdout",
     "output_type": "stream",
     "text": [
      "Table Size: 10\n",
      "Jaskamal = [Hash Value: 4]\n",
      "Komal = [Hash Value: 0]\n",
      "Jasmeet = [Hash Value: 3]\n",
      "Amol = [Hash Value: 3]\n"
     ]
    }
   ],
   "source": [
    "def hash_function(string, table_size):\n",
    "    ascii = sum(ord(char) for char in string)\n",
    "    hash_value = ascii % table_size\n",
    "    return hash_value\n",
    "\n",
    "# Demonsration\n",
    "table_size = 10\n",
    "strings_to_hash = [\"Jaskamal\", \"Komal\", \"Jasmeet\", \"Amol\"]\n",
    "\n",
    "print(f\"Table Size: {table_size}\")\n",
    "for string in strings_to_hash:\n",
    "    hash_value = hash_function(string, table_size)\n",
    "    print(f\"{string} = [Hash Value: {hash_value}]\")\n"
   ]
  },
  {
   "cell_type": "code",
   "execution_count": null,
   "id": "ab27767c-4c9e-4270-b359-2ce98ef69f1d",
   "metadata": {},
   "outputs": [],
   "source": []
  }
 ],
 "metadata": {
  "kernelspec": {
   "display_name": "Python 3 (ipykernel)",
   "language": "python",
   "name": "python3"
  },
  "language_info": {
   "codemirror_mode": {
    "name": "ipython",
    "version": 3
   },
   "file_extension": ".py",
   "mimetype": "text/x-python",
   "name": "python",
   "nbconvert_exporter": "python",
   "pygments_lexer": "ipython3",
   "version": "3.12.7"
  }
 },
 "nbformat": 4,
 "nbformat_minor": 5
}
