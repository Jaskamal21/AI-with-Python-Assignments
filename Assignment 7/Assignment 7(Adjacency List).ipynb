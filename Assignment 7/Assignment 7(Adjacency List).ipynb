{
 "cells": [
  {
   "cell_type": "code",
   "execution_count": 1,
   "id": "ef85c953-7d00-47c3-a61f-0e159065c495",
   "metadata": {},
   "outputs": [
    {
     "name": "stdout",
     "output_type": "stream",
     "text": [
      "A: B, C\n",
      "B: A, D\n",
      "C: A\n",
      "D: B\n"
     ]
    }
   ],
   "source": [
    "def adjacency_list(graph):\n",
    "    for node, neighbors in graph.items():\n",
    "        neighbors_list = \", \".join(neighbors)\n",
    "        print(f\"{node}: {neighbors_list}\")\n",
    "\n",
    "graph = {\n",
    "    \"A\": [\"B\", \"C\"],\n",
    "    \"B\": [\"A\", \"D\"],\n",
    "    \"C\": [\"A\"],\n",
    "    \"D\": [\"B\"]\n",
    "}\n",
    "\n",
    "adjacency_list(graph)\n"
   ]
  },
  {
   "cell_type": "code",
   "execution_count": null,
   "id": "528d86d9-17a6-434b-be4d-76ab1624234e",
   "metadata": {},
   "outputs": [],
   "source": []
  }
 ],
 "metadata": {
  "kernelspec": {
   "display_name": "Python 3 (ipykernel)",
   "language": "python",
   "name": "python3"
  },
  "language_info": {
   "codemirror_mode": {
    "name": "ipython",
    "version": 3
   },
   "file_extension": ".py",
   "mimetype": "text/x-python",
   "name": "python",
   "nbconvert_exporter": "python",
   "pygments_lexer": "ipython3",
   "version": "3.12.7"
  }
 },
 "nbformat": 4,
 "nbformat_minor": 5
}
